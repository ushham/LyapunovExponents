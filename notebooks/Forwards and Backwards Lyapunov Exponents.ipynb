{
 "cells": [
  {
   "cell_type": "markdown",
   "id": "9e478da6",
   "metadata": {},
   "source": [
    "# Calculation of Forwards and Backwards Lyapunov Vectors\n",
    "Displaying how to calculate the Lyapunov exponents for some common dynamical systems"
   ]
  },
  {
   "cell_type": "markdown",
   "id": "69d2fb92",
   "metadata": {},
   "source": [
    "We start by setting the folder where the python scripts are stored, and then import the required packages"
   ]
  },
  {
   "cell_type": "code",
   "execution_count": 1,
   "id": "81faa285",
   "metadata": {},
   "outputs": [],
   "source": [
    "import os, sys\n",
    "sys.path.extend([os.path.abspath('../lyp/')])"
   ]
  },
  {
   "cell_type": "code",
   "execution_count": 9,
   "id": "650a7cc6",
   "metadata": {},
   "outputs": [],
   "source": [
    "import numpy as np\n",
    "import matplotlib.pyplot as plt\n",
    "from common_systems import lorenz\n",
    "from lyapunov_calcs import Lyapunov"
   ]
  },
  {
   "cell_type": "markdown",
   "id": "03104579",
   "metadata": {},
   "source": [
    "We set the dynamical system to the Lorenz 1969 system"
   ]
  },
  {
   "cell_type": "code",
   "execution_count": 10,
   "id": "bf3f9a2c",
   "metadata": {},
   "outputs": [],
   "source": [
    "lorenz_sys = lorenz()"
   ]
  },
  {
   "cell_type": "markdown",
   "id": "6d1437d4",
   "metadata": {},
   "source": [
    "We can check the equations and parameters used in this system"
   ]
  },
  {
   "cell_type": "code",
   "execution_count": 11,
   "id": "fa3c944d",
   "metadata": {},
   "outputs": [
    {
     "name": "stdout",
     "output_type": "stream",
     "text": [
      "DynamicalSystem Parameters:\n",
      "'variables': [x, y, z],\n",
      "'parameters': [sigma, rho, beta],\n",
      "'parm_vals': [10.0, 28.0, 2.6666666666666665],\n",
      "'equations': [sigma*(-x + y), x*(rho - z) - y, -beta*z + x*y],\n",
      "'model_dims': (3, 3),\n",
      "'substitutions': [],\n",
      "'jacobian': 'variables': [x, y, z],\n",
      "'parameters': [sigma, rho, beta],\n",
      "'parm_vals': [10.0, 28.0, 2.6666666666666665],\n",
      "'equations': [[-sigma, rho - z, y], [sigma, -1, x], [0, -x, -beta]],\n",
      "'model_dims': (None, None),\n",
      "'substitutions': [],\n",
      ",\n",
      "\n"
     ]
    }
   ],
   "source": [
    "lorenz_sys.print_system()"
   ]
  },
  {
   "cell_type": "markdown",
   "id": "c73ea965",
   "metadata": {},
   "source": [
    "The system parameters can be reset as follows:"
   ]
  },
  {
   "cell_type": "code",
   "execution_count": 12,
   "id": "8acbebde",
   "metadata": {},
   "outputs": [
    {
     "name": "stdout",
     "output_type": "stream",
     "text": [
      "DynamicalSystem Parameters:\n",
      "'variables': [x, y, z],\n",
      "'parameters': [sigma, rho, beta],\n",
      "'parm_vals': [1, 2, 3],\n",
      "'equations': [sigma*(-x + y), x*(rho - z) - y, -beta*z + x*y],\n",
      "'model_dims': (3, 3),\n",
      "'substitutions': [],\n",
      "'jacobian': 'variables': [x, y, z],\n",
      "'parameters': [sigma, rho, beta],\n",
      "'parm_vals': [1, 2, 3],\n",
      "'equations': [[-sigma, rho - z, y], [sigma, -1, x], [0, -x, -beta]],\n",
      "'model_dims': (None, None),\n",
      "'substitutions': [],\n",
      ",\n",
      "\n"
     ]
    }
   ],
   "source": [
    "lorenz_sys.update_parameters([1, 2, 3])\n",
    "lorenz_sys.print_system()"
   ]
  },
  {
   "cell_type": "markdown",
   "id": "df9538f8",
   "metadata": {},
   "source": [
    "We will take the standard Lorenz parameters for this example"
   ]
  },
  {
   "cell_type": "code",
   "execution_count": 13,
   "id": "e2e024ed",
   "metadata": {},
   "outputs": [],
   "source": [
    "lorenz_sys.update_parameters([10., 28., 8/3])"
   ]
  },
  {
   "cell_type": "markdown",
   "id": "16513b10",
   "metadata": {},
   "source": [
    "We now use the Lyapunov class to calculate the exponents, this is done by passing the system into the Lyapunov class"
   ]
  },
  {
   "cell_type": "code",
   "execution_count": 14,
   "id": "ce943339",
   "metadata": {},
   "outputs": [],
   "source": [
    "lyap = Lyapunov(lorenz_sys)"
   ]
  },
  {
   "cell_type": "code",
   "execution_count": 16,
   "id": "e27fcfb0",
   "metadata": {},
   "outputs": [],
   "source": [
    "exp = Lyapunov(lorenz_sys).forwards.exponents_average()"
   ]
  },
  {
   "cell_type": "code",
   "execution_count": 21,
   "id": "7c0ded76",
   "metadata": {},
   "outputs": [
    {
     "name": "stdout",
     "output_type": "stream",
     "text": [
      "[  0.902    0.0023 -14.571 ]\n"
     ]
    }
   ],
   "source": [
    "np.set_printoptions(precision=4, suppress=True)\n",
    "print(exp)"
   ]
  },
  {
   "cell_type": "code",
   "execution_count": null,
   "id": "b846f069",
   "metadata": {},
   "outputs": [],
   "source": []
  }
 ],
 "metadata": {
  "kernelspec": {
   "display_name": "Python 3 (ipykernel)",
   "language": "python",
   "name": "python3"
  },
  "language_info": {
   "codemirror_mode": {
    "name": "ipython",
    "version": 3
   },
   "file_extension": ".py",
   "mimetype": "text/x-python",
   "name": "python",
   "nbconvert_exporter": "python",
   "pygments_lexer": "ipython3",
   "version": "3.8.10"
  }
 },
 "nbformat": 4,
 "nbformat_minor": 5
}
